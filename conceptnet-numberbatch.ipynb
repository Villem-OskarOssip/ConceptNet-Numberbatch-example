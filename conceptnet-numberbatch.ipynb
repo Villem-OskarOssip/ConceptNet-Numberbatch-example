{
 "cells": [
  {
   "cell_type": "code",
   "execution_count": 24,
   "metadata": {},
   "outputs": [],
   "source": [
    "import gensim\n",
    "import h5py\n",
    "import requests"
   ]
  },
  {
   "cell_type": "code",
   "execution_count": null,
   "metadata": {},
   "outputs": [],
   "source": [
    "word1 = \"heat\"\n",
    "word2 = \"cold\""
   ]
  },
  {
   "cell_type": "code",
   "execution_count": 27,
   "metadata": {},
   "outputs": [],
   "source": [
    "#EN\n",
    "model = gensim.models.KeyedVectors.load_word2vec_format('numberbatch-en-17.06.txt', binary=False)"
   ]
  },
  {
   "cell_type": "code",
   "execution_count": null,
   "metadata": {},
   "outputs": [],
   "source": [
    "#Multilingula\n",
    "model2 = gensim.models.KeyedVectors.load_word2vec_format('numberbatch-17.06.txt', binary=False)"
   ]
  },
  {
   "cell_type": "code",
   "execution_count": 18,
   "metadata": {},
   "outputs": [],
   "source": [
    "# Mini.h5 - read in\n",
    "filename = 'mini.h5'\n",
    "f = h5py.File(filename, 'r')\n",
    "group = f[\"mat\"]\n",
    "data = group[\"block0_values\"].value\n",
    "\n",
    "coordinates = []\n",
    "for c in group[\"block0_values\"].value:\n",
    "    coordinate = \" \"\n",
    "    for nr in c:\n",
    "        coordinate += str(nr) + \" \"\n",
    "    coordinates.append(coordinate)\n",
    "    \n",
    "words = []\n",
    "for i in group[\"axis1\"].value:\n",
    "    splitted = str(i).split(\"/\")\n",
    "    splitted2 = splitted[-1].split(\"'\")\n",
    "    words.append(splitted2[0])"
   ]
  },
  {
   "cell_type": "code",
   "execution_count": null,
   "metadata": {},
   "outputs": [],
   "source": [
    "# Mini.h5 - write vector file\n",
    "file = open(\"mini.txt\",\"w+\")\n",
    "sent = []\n",
    "for word in words:\n",
    "    if word == word1 or word == word2:\n",
    "        sent.append(word + coordinates[words.index(word)] + \"\\n\")\n",
    "        \n",
    "firstLine = str(len(sent)) + \" \" + str(len(group[\"axis0\"].value)) + \"\\n\"\n",
    "file.write(firstLine)\n",
    "for s in sent:\n",
    "    file.write(s)\n",
    "        \n",
    "file.close() \n",
    "model = gensim.models.KeyedVectors.load_word2vec_format('mini.txt', binary=False)\n",
    "\n",
    "#API\n",
    "response = requests.get(\"http://api.conceptnet.io/relatedness?node1=/c/en/\"+word1+\"&node2=/c/en/\"+word2)\n",
    "obj = response.json()"
   ]
  },
  {
   "cell_type": "code",
   "execution_count": null,
   "metadata": {},
   "outputs": [],
   "source": [
    "#model1 and model2 have to bead read in only once. \n",
    "#Mini.h5 and API block needs to be run each time query words are changed.\n",
    "\n",
    "print(\"Englis-only\", model.similarity(word1, word2))\n",
    "print(\"Multilingual\", model2.similarity(\"/c/en/\" + word1, \"/c/en/\" + word2))\n",
    "print(\"Mini\", model.similarity(word1, word2))\n",
    "print(\"API\", obj[\"value\"])"
   ]
  }
 ],
 "metadata": {
  "kernelspec": {
   "display_name": "Python 3",
   "language": "python",
   "name": "python3"
  },
  "language_info": {
   "codemirror_mode": {
    "name": "ipython",
    "version": 3
   },
   "file_extension": ".py",
   "mimetype": "text/x-python",
   "name": "python",
   "nbconvert_exporter": "python",
   "pygments_lexer": "ipython3",
   "version": "3.7.3"
  }
 },
 "nbformat": 4,
 "nbformat_minor": 2
}
